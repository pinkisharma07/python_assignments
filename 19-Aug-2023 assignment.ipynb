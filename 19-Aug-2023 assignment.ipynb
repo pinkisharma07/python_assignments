{
 "cells": [
  {
   "cell_type": "markdown",
   "id": "850d2bd2-f7f5-433e-b3c0-f3948b3a7e0d",
   "metadata": {},
   "source": [
    "#Python Basic Variable"
   ]
  },
  {
   "cell_type": "code",
   "execution_count": 1,
   "id": "1bee1b49-7175-42b3-9f30-a7c7e1916057",
   "metadata": {},
   "outputs": [],
   "source": [
    "#first code problem\n",
    "#Declare two variables, x and y, and assign them integer values. Swap the values of these variables without using any temporary variable."
   ]
  },
  {
   "cell_type": "code",
   "execution_count": 2,
   "id": "ef0a42e6-2ed9-45b5-aee2-4d1f502ea9b9",
   "metadata": {},
   "outputs": [
    {
     "name": "stdout",
     "output_type": "stream",
     "text": [
      "Before swap x: 5 and y: 10\n",
      "After swap x: 10 and y: 5\n"
     ]
    }
   ],
   "source": [
    "\n",
    " # Declare and initialize variables\n",
    "x = 5\n",
    "y = 10\n",
    "\n",
    "# Creating function to swap the variables\n",
    "def swap_variables(x,y):\n",
    "  print(f\"Before swap x: {x} and y: {y}\")\n",
    "  x,y = y, x\n",
    "  print(f\"After swap x: {x} and y: {y}\")\n",
    "\n",
    "swap_variables(x,y)\n"
   ]
  },
  {
   "cell_type": "code",
   "execution_count": 3,
   "id": "1c2c932b-ef79-4835-b599-f90dd5c69c3a",
   "metadata": {},
   "outputs": [
    {
     "name": "stdin",
     "output_type": "stream",
     "text": [
      "Enter the length of rectangle:  25\n",
      "Enter the width of the rectangle:  15\n"
     ]
    },
    {
     "name": "stdout",
     "output_type": "stream",
     "text": [
      "The area of the rectangle is: 375.0\n"
     ]
    }
   ],
   "source": [
    "#Second problem\n",
    "'''Create a program that calculates the area of a rectangle. Take the length and\n",
    "width as inputs from the user and store them in variables. Calculate and\n",
    "display the area.'''\n",
    "\n",
    "# input from the user for length and width\n",
    "length = float(input(\"Enter the length of rectangle: \"))\n",
    "width = float(input(\"Enter the width of the rectangle: \"))\n",
    "\n",
    "# Calculate the area of the rectangle using the formula: area = length * width\n",
    "area = length * width \n",
    "\n",
    "# Display the calculated area to the user\n",
    "print(\"The area of the rectangle is:\", area)\n",
    "\n"
   ]
  },
  {
   "cell_type": "code",
   "execution_count": 4,
   "id": "c0be3d07-f3cb-4c91-981f-76fe6479032f",
   "metadata": {},
   "outputs": [
    {
     "name": "stdin",
     "output_type": "stream",
     "text": [
      "Enter temperature in Celsius:  56\n"
     ]
    },
    {
     "name": "stdout",
     "output_type": "stream",
     "text": [
      "56.0 Celsius is equal to 132.80 Fahrenheit\n"
     ]
    }
   ],
   "source": [
    "#third Problem\n",
    "'''Write a Python program that converts temperatures from Celsius to\n",
    "Fahrenheit. Take the temperature in Celsius as input, store it in a variable,\n",
    "convert it to Fahrenheit, and display the result.'''\n",
    "\n",
    "# Get the temperature in Celsius from the user\n",
    "cel = float(input(\"Enter temperature in Celsius: \"))\n",
    "\n",
    "# Convert Celsius to Fahrenheit using the formula: (C * 9/5) + 32\n",
    "fah = (cel * 9/5) + 32\n",
    "\n",
    "# Display the converted temperature in Fahrenheit\n",
    "print(f\"{cel} Celsius is equal to {fah:.2f} Fahrenheit\")"
   ]
  },
  {
   "cell_type": "code",
   "execution_count": 5,
   "id": "6a727532-bc20-43c5-92af-77246a2af658",
   "metadata": {},
   "outputs": [
    {
     "name": "stdin",
     "output_type": "stream",
     "text": [
      "Enter a string:  incredibleindia\n"
     ]
    },
    {
     "name": "stdout",
     "output_type": "stream",
     "text": [
      "The length of the input string is: 15\n"
     ]
    }
   ],
   "source": [
    "#String based questions\n",
    "#first Problem\n",
    "'''Write a Python program that takes a string as input and prints the length of string'''\n",
    "# input from the user\n",
    "x = input(\"Enter a string: \")\n",
    "\n",
    "# Calculate the length of the input string using the built-in len() function\n",
    "string_length = len(x)\n",
    "\n",
    "# Print the length of the string\n",
    "print(\"The length of the input string is:\", string_length)\n"
   ]
  },
  {
   "cell_type": "code",
   "execution_count": 7,
   "id": "1e5b254c-ed64-4682-b689-55ef7c1b51ca",
   "metadata": {},
   "outputs": [
    {
     "name": "stdin",
     "output_type": "stream",
     "text": [
      " Enter the sentence:  the sun rises from east\n"
     ]
    },
    {
     "name": "stdout",
     "output_type": "stream",
     "text": [
      " number of vowels in sentence: 7\n"
     ]
    }
   ],
   "source": [
    "#second problem\n",
    "''' Create a program that takes a sentence from the user and counts the number\n",
    "of vowels (a, e, i, o, u) in the string.'''\n",
    "\n",
    "# input from the user\n",
    "s = input ( \" Enter the sentence: \")\n",
    "# intializing variable to count the vowels\n",
    "vowel_count = 0\n",
    "\n",
    "for char in s: \n",
    "    char_lower = char.lower()\n",
    "    \n",
    "    if char_lower in \"aeiou\":\n",
    "# if char is a vowel increase the vowel count \n",
    "        vowel_count += 1\n",
    "print(\" number of vowels in sentence:\" , vowel_count)"
   ]
  },
  {
   "cell_type": "code",
   "execution_count": 8,
   "id": "89a3e7d8-0c5a-4567-9c78-f68bb200374b",
   "metadata": {},
   "outputs": [
    {
     "name": "stdin",
     "output_type": "stream",
     "text": [
      "Enter a string:  urban\n"
     ]
    },
    {
     "name": "stdout",
     "output_type": "stream",
     "text": [
      "Reversed string: nabru\n"
     ]
    }
   ],
   "source": [
    "#third problem\n",
    "'''Given a string, reverse the order of characters using string slicing and print\n",
    "the reversed string.'''\n",
    "# input from user\n",
    "a = input(\"Enter a string: \")\n",
    "\n",
    "rev_str = a[::-1] # [start:stop:step]\n",
    "\n",
    "print(\"Reversed string:\", rev_str)\n"
   ]
  },
  {
   "cell_type": "code",
   "execution_count": 9,
   "id": "714d63fe-a9bc-4a1c-ab09-83c836d93403",
   "metadata": {},
   "outputs": [
    {
     "name": "stdin",
     "output_type": "stream",
     "text": [
      "Enter the string :  madam\n"
     ]
    },
    {
     "name": "stdout",
     "output_type": "stream",
     "text": [
      "This string is a palindrome\n"
     ]
    }
   ],
   "source": [
    "# fourth problem\n",
    "'''Write a program that takes a string as input and checks if it is a palindrome\n",
    "(reads the same forwards and backwards).'''\n",
    "\n",
    "\n",
    "#input from user\n",
    "str_1 = input(\"Enter the string : \")\n",
    "str_1 = str_1.casefold()\n",
    "rev_str = str_1[::-1]\n",
    "if  rev_str == str_1 :\n",
    "    print(\"This string is a palindrome\")\n",
    "else:\n",
    "    print(\"No, this string is not a palindrome\")"
   ]
  },
  {
   "cell_type": "code",
   "execution_count": 10,
   "id": "7b3b3aff-4d1c-45e6-91a6-f8a8cfbaea5f",
   "metadata": {},
   "outputs": [
    {
     "name": "stdin",
     "output_type": "stream",
     "text": [
      "Enter a string:  coding is interesting\n"
     ]
    },
    {
     "name": "stdout",
     "output_type": "stream",
     "text": [
      "Modified string without spaces: codingisinteresting\n"
     ]
    }
   ],
   "source": [
    "#Create a program that takes a string as input and removes all the spaces from it. Print the modified string without spaces.\n",
    "\n",
    "# input from the user\n",
    "s = input(\"Enter a string: \")\n",
    "\n",
    "# Initialize an empty string to store the modified string without spaces\n",
    "modified_string = \"\"\n",
    "\n",
    "for char in s:\n",
    "    # Check if the character is not a space\n",
    "    if char != \" \":\n",
    "        modified_string += char\n",
    "\n",
    "print(\"Modified string without spaces:\", modified_string)"
   ]
  },
  {
   "cell_type": "code",
   "execution_count": null,
   "id": "8903590d-31d9-4a19-a181-9e49055846dd",
   "metadata": {},
   "outputs": [],
   "source": []
  }
 ],
 "metadata": {
  "kernelspec": {
   "display_name": "Python 3 (ipykernel)",
   "language": "python",
   "name": "python3"
  },
  "language_info": {
   "codemirror_mode": {
    "name": "ipython",
    "version": 3
   },
   "file_extension": ".py",
   "mimetype": "text/x-python",
   "name": "python",
   "nbconvert_exporter": "python",
   "pygments_lexer": "ipython3",
   "version": "3.10.8"
  }
 },
 "nbformat": 4,
 "nbformat_minor": 5
}
